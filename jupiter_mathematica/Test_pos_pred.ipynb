{
 "cells": [
  {
   "cell_type": "code",
   "execution_count": 66,
   "metadata": {
    "collapsed": false
   },
   "outputs": [],
   "source": [
    "import numpy as np\n",
    "import matplotlib.pyplot as plt"
   ]
  },
  {
   "cell_type": "code",
   "execution_count": 456,
   "metadata": {
    "collapsed": true
   },
   "outputs": [],
   "source": [
    "from numba import jit,prange"
   ]
  },
  {
   "cell_type": "markdown",
   "metadata": {},
   "source": [
    "Create OU process"
   ]
  },
  {
   "cell_type": "code",
   "execution_count": 106,
   "metadata": {
    "collapsed": true
   },
   "outputs": [],
   "source": [
    "def ornstein_uhlenbeck(mlam,gamma,sig,length=30,ncel=10,dt=3.):\n",
    "    mat = np.zeros((ncel,length))\n",
    "    dW = np.random.normal(loc=mat,scale=np.sqrt(dt))\n",
    "    mat[:,0]=mlam+sig*dW[:,0]\n",
    "    for k in range(1,length):\n",
    "        mat[:,k]=mat[:,k-1]-gamma*(mat[:,k-1]-mlam)*dt+sig*dW[:,k-1]\n",
    "    return mat"
   ]
  },
  {
   "cell_type": "code",
   "execution_count": 353,
   "metadata": {
    "collapsed": true
   },
   "outputs": [],
   "source": [
    "def integrated_ou(mlam,gamma,sig,sigm2,X0=1,sx0=0.1,length=30,ncel=10,dt=3.):\n",
    "    X = ornstein_uhlenbeck(mlam,gamma,sig,length,ncel,dt)\n",
    "    X0 = np.random.normal(loc=np.ones((ncel,1)),scale=sx0)\n",
    "    return np.random.normal(loc=np.hstack([X0,np.cumsum(X,axis=1)*dt+X0]),scale=np.sqrt(sigm2))[:,:-1], X"
   ]
  },
  {
   "cell_type": "markdown",
   "metadata": {},
   "source": [
    "Length inference"
   ]
  },
  {
   "cell_type": "code",
   "execution_count": 419,
   "metadata": {
    "collapsed": true
   },
   "outputs": [],
   "source": [
    "@jit(nopython=True)\n",
    "def parameters(gamma,dt,mlam,sig_l_s):\n",
    "    \"\"\"return F,A, a as in Erik theory paper \"\"\"\n",
    "    A = np.empty((2,2))\n",
    "    A[0,0] =  sig_l_s/(2*gamma**3)*\\\n",
    "            (2*gamma*dt-3+4*np.exp(-gamma*dt)-np.exp(-2*gamma*dt))\n",
    "    A[1,1] = sig_l_s/(2*gamma)*(1-np.exp(-2*gamma*dt))\n",
    "    A[0,1] = sig_l_s/(2*gamma**2)*(1-np.exp(-gamma*dt))**2\n",
    "    A[1,0] = A[0,1]\n",
    "\n",
    "    F = np.empty((2,2))\n",
    "    F[0,0] = 1 \n",
    "    F[0,1] = (1-np.exp(-gamma*dt))/gamma\n",
    "    F[1,0] = 0 \n",
    "    F[1,1] = np.exp(-gamma*dt)\n",
    "\n",
    "    a = np.empty((2,1))\n",
    "    a[0,0] = mlam/gamma*(np.exp(-gamma*dt)-(1-gamma*dt))\n",
    "    a[1,0] = mlam*(1-np.exp(-gamma*dt))\n",
    "\n",
    "    return F, A, a\n",
    "\n",
    "@jit(nopython=True)\n",
    "def new_mean_cov(mu, M,F,A,a):\n",
    "    \"\"\"From old mean mu and cov M return new one\"\"\"\n",
    "    # No numpy modules for speed up in numba\n",
    "    #mu_ = a + np.matmul(F,mu)\n",
    "    #Q = A+np.matmul(F,np.matmul(M,F.T))\n",
    "    mu_ = a + np.array([[F[0,0]*mu[0,0]+F[0,1]*mu[1,0]],\\\n",
    "                        [F[1,0]*mu[0,0]+F[1,1]*mu[1,0]]])\n",
    "    T = np.array([[M[0,0]*F[0,0]+M[0,1]*F[0,1],M[0,0]*F[1,0]+M[0,1]*F[1,1]],\\\n",
    "              [M[1,0]*F[0,0]+M[1,1]*F[0,1],M[1,0]*F[1,0]+M[1,1]*F[1,1 ]]])\n",
    "    T_ = np.array([[F[0,0]*T[0,0]+F[0,1]*T[1,0],F[0,0]*T[0,1]+F[0,1]*T[1,1]],\\\n",
    "                  [F[1,0]*T[0,0]+F[1,1]*T[1,0],F[1,0]*T[0,1]+F[1,1]*T[1,1]]])\n",
    "    Q = A + T_\n",
    "    return mu_, Q\n",
    "\n",
    "@jit(nopython=True)\n",
    "def posteriori_matrices(x,m,Q,sig_m_s):\n",
    "    \"\"\"From updated mu, M return mean and cov of posterior (wich is normal dist)\"\"\"\n",
    "    den = sig_m_s+Q[0,0]\n",
    "    mu_ = np.zeros_like(m);\n",
    "    M_ = np.zeros_like(Q)\n",
    "    mu_[1,0] = m[1,0]+Q[0,1]/den*(x-m[0,0]) #mean lambda t+dt\n",
    "    mu_[0,0] = (sig_m_s*m[0,0]+Q[0,0]*x)/den #mean x t+dt\n",
    "    M_[0,0] = sig_m_s*Q[0,0]/den    #var x t+dt\n",
    "    M_[1,1] = Q[1,1] - Q[0,1]*Q[0,1]/den # var lam t+dt\n",
    "    M_[0,1] = Q[0,1]*sig_m_s/den\n",
    "    M_[1,0] = M_[0,1]\n",
    "    return mu_, M_\n",
    "\n",
    "@jit(nopython=True)\n",
    "def log_likelihood(x,m,Q,sig_m_s):\n",
    "    \"\"\"Return P(x_{t+dt}|D_t) in log \"\"\"\n",
    "    den = sig_m_s+Q[0,0]\n",
    "    return -(x-m[0,0])**2/(2*den)-0.5*(np.log(den)+np.log(2*np.pi))\n"
   ]
  },
  {
   "cell_type": "markdown",
   "metadata": {},
   "source": [
    "Objective function "
   ]
  },
  {
   "cell_type": "code",
   "execution_count": 483,
   "metadata": {
    "collapsed": true
   },
   "outputs": [],
   "source": [
    "def objective(W,mlam,gamma,sig2,sm2,dt,m0,M0):\n",
    "    ll = 0\n",
    "    F, A, a = parameters(gamma,dt,mlam,sig2)\n",
    "    for k in range(W.shape[0]):\n",
    "        ll += log_p0(W[k,0],sm2)\n",
    "        m,Q = new_mean_cov(m0, M0,F,A,a)\n",
    "        for j in range(W.shape[1]):\n",
    "            ll += log_likelihood(W[k,j],m,Q,sm2)\n",
    "            mu, M = posteriori_matrices(W[k,j],m,Q,sm2)\n",
    "            m,Q = new_mean_cov(mu, M,F,A,a)\n",
    "    return -ll\n",
    "def posterior(W,mlam,gamma,sig2,sm2,dt,m0,M0):\n",
    "    F, A, a = parameters(gamma,dt,mlam,sig2)\n",
    "    z = []; err_z = []\n",
    "    for k in range(W.shape[0]):\n",
    "        m,Q = new_mean_cov(m0, M0,F,A,a)\n",
    "        for j in range(W.shape[1]):\n",
    "            mu, M = posteriori_matrices(W[k,j],m,Q,sm2)\n",
    "            z.append(mu); err_z.append(np.array([M[0,0],M[1,1]]))\n",
    "            m,Q = new_mean_cov(mu, M,F,A,a)\n",
    "    return z, err_z"
   ]
  },
  {
   "cell_type": "code",
   "execution_count": 470,
   "metadata": {
    "collapsed": false
   },
   "outputs": [
    {
     "data": {
      "text/plain": [
       "1"
      ]
     },
     "execution_count": 470,
     "metadata": {},
     "output_type": "execute_result"
    }
   ],
   "source": [
    "np.arange(2).ndim"
   ]
  },
  {
   "cell_type": "markdown",
   "metadata": {},
   "source": [
    "### Main"
   ]
  },
  {
   "cell_type": "code",
   "execution_count": 162,
   "metadata": {
    "collapsed": false
   },
   "outputs": [],
   "source": [
    "from scipy.optimize import minimize"
   ]
  },
  {
   "cell_type": "code",
   "execution_count": 478,
   "metadata": {
    "collapsed": false
   },
   "outputs": [],
   "source": [
    "np.random.seed(1)\n",
    "W,X = integrated_ou(mlam=1.,gamma=0.02,sig=.03,sigm2=0.08,length=100000,ncel=1,dt=3.)"
   ]
  },
  {
   "cell_type": "markdown",
   "metadata": {},
   "source": [
    "Initialize the probabilies"
   ]
  },
  {
   "cell_type": "code",
   "execution_count": 480,
   "metadata": {
    "collapsed": true
   },
   "outputs": [],
   "source": [
    "m0 = np.array([[np.mean(W[:,0])],[np.mean(X[:,0])]])\n",
    "M0 = np.array([[np.var(W[:,0]),0],[0,np.var(X[:,0])]])\n",
    "log_p0 = lambda x,sm2: -(x-np.mean(W[:,0]))**2/(2*sm2)-0.5*np.log(sm2)-np.log(2*np.pi)"
   ]
  },
  {
   "cell_type": "markdown",
   "metadata": {},
   "source": [
    "###### Test if looks correct"
   ]
  },
  {
   "cell_type": "code",
   "execution_count": 232,
   "metadata": {
    "collapsed": false
   },
   "outputs": [],
   "source": [
    "fun = lambda x: objective(W,mlam=x,gamma=0.02,sig2=.03**2,sm2=0.08,dt=3.,m0=m0,M0=M0)"
   ]
  },
  {
   "cell_type": "code",
   "execution_count": 233,
   "metadata": {
    "collapsed": false
   },
   "outputs": [],
   "source": [
    "la = np.arange(0.9,1.1,0.001)\n",
    "F = [fun(l) for l in la]"
   ]
  },
  {
   "cell_type": "code",
   "execution_count": 234,
   "metadata": {
    "collapsed": false
   },
   "outputs": [
    {
     "data": {
      "text/plain": [
       "[<matplotlib.lines.Line2D at 0x7fba98d454e0>]"
      ]
     },
     "execution_count": 234,
     "metadata": {},
     "output_type": "execute_result"
    },
    {
     "data": {
      "image/png": "[encoded data removed]",
      "text/plain": [
       "<Figure size 432x288 with 1 Axes>"
      ]
     },
     "metadata": {
      "needs_background": "light"
     },
     "output_type": "display_data"
    }
   ],
   "source": [
    "plt.plot(la,F)"
   ]
  },
  {
   "cell_type": "code",
   "execution_count": 235,
   "metadata": {
    "collapsed": true
   },
   "outputs": [],
   "source": [
    "fun = lambda x: objective(W,mlam=1,gamma=x,sig2=.03**2,sm2=0.08,dt=3.,m0=m0,M0=M0)"
   ]
  },
  {
   "cell_type": "code",
   "execution_count": 236,
   "metadata": {
    "collapsed": false
   },
   "outputs": [],
   "source": [
    "ga = np.arange(0.01,0.03,0.0001)\n",
    "G = [fun(l) for l in ga]"
   ]
  },
  {
   "cell_type": "code",
   "execution_count": 237,
   "metadata": {
    "collapsed": false
   },
   "outputs": [
    {
     "data": {
      "text/plain": [
       "[<matplotlib.lines.Line2D at 0x7fba98d0c5c0>]"
      ]
     },
     "execution_count": 237,
     "metadata": {},
     "output_type": "execute_result"
    },
    {
     "data": {
      "image/png": "[encoded data removed]",
      "text/plain": [
       "<Figure size 432x288 with 1 Axes>"
      ]
     },
     "metadata": {
      "needs_background": "light"
     },
     "output_type": "display_data"
    }
   ],
   "source": [
    "plt.plot(ga,G)"
   ]
  },
  {
   "cell_type": "code",
   "execution_count": 255,
   "metadata": {
    "collapsed": true
   },
   "outputs": [],
   "source": [
    "fun = lambda x: objective(W,mlam=1,gamma=0.02,sig2=x,sm2=0.08,dt=3.,m0=m0,M0=M0)"
   ]
  },
  {
   "cell_type": "code",
   "execution_count": 239,
   "metadata": {
    "collapsed": true
   },
   "outputs": [],
   "source": [
    "six2 = np.arange(0.0001,0.0018,0.0001)\n",
    "S = [fun(l) for l in six2]"
   ]
  },
  {
   "cell_type": "code",
   "execution_count": 268,
   "metadata": {
    "collapsed": false
   },
   "outputs": [
    {
     "data": {
      "text/plain": [
       "[<matplotlib.lines.Line2D at 0x7fba98b94860>]"
      ]
     },
     "execution_count": 268,
     "metadata": {},
     "output_type": "execute_result"
    },
    {
     "data": {
      "image/png": "[encoded data removed]",
      "text/plain": [
       "<Figure size 432x288 with 1 Axes>"
      ]
     },
     "metadata": {
      "needs_background": "light"
     },
     "output_type": "display_data"
    }
   ],
   "source": [
    "plt.plot(six2,S1)"
   ]
  },
  {
   "cell_type": "code",
   "execution_count": 241,
   "metadata": {
    "collapsed": true
   },
   "outputs": [],
   "source": [
    "fun = lambda x: objective(W,mlam=1,gamma=0.02,sig2=.03**2,sm2=x,dt=3.,m0=m0,M0=M0)"
   ]
  },
  {
   "cell_type": "code",
   "execution_count": 242,
   "metadata": {
    "collapsed": true
   },
   "outputs": [],
   "source": [
    "sim2 = np.arange(0.07,0.09,0.0001)\n",
    "Sm = [fun(l) for l in sim2]"
   ]
  },
  {
   "cell_type": "code",
   "execution_count": 243,
   "metadata": {
    "collapsed": false
   },
   "outputs": [
    {
     "data": {
      "text/plain": [
       "[<matplotlib.lines.Line2D at 0x7fba98c89be0>]"
      ]
     },
     "execution_count": 243,
     "metadata": {},
     "output_type": "execute_result"
    },
    {
     "data": {
      "image/png": "[encoded data removed]",
      "text/plain": [
       "<Figure size 432x288 with 1 Axes>"
      ]
     },
     "metadata": {
      "needs_background": "light"
     },
     "output_type": "display_data"
    }
   ],
   "source": [
    "plt.plot(sim2,Sm)"
   ]
  },
  {
   "cell_type": "markdown",
   "metadata": {},
   "source": [
    "###### Look if posterior are reasonables"
   ]
  },
  {
   "cell_type": "code",
   "execution_count": 422,
   "metadata": {
    "collapsed": false
   },
   "outputs": [],
   "source": [
    "z = np.hstack(z)\n",
    "err_z= np.sqrt(err_z)\n",
    "err_z = err_z.T"
   ]
  },
  {
   "cell_type": "markdown",
   "metadata": {},
   "source": [
    "Check when predicted z+/-err is out of true one "
   ]
  },
  {
   "cell_type": "code",
   "execution_count": 423,
   "metadata": {
    "collapsed": false,
    "scrolled": true
   },
   "outputs": [],
   "source": [
    "def W_er(st):\n",
    "    diffW= abs(W-z[0,:])\n",
    "    percW = sum(sum(diffW>st*err_z[0,:]))/diffW.shape[1]\n",
    "    return percW"
   ]
  },
  {
   "cell_type": "code",
   "execution_count": 424,
   "metadata": {
    "collapsed": false
   },
   "outputs": [],
   "source": [
    "def X_er(st):\n",
    "    diffX= abs(X-z[1,:])\n",
    "    percX = sum(sum(diffX>st*err_z[1,:]))/diffW.shape[1]\n",
    "    return percX"
   ]
  },
  {
   "cell_type": "code",
   "execution_count": 427,
   "metadata": {
    "collapsed": false
   },
   "outputs": [
    {
     "name": "stdout",
     "output_type": "stream",
     "text": [
      "0.01073 0.0909\n"
     ]
    }
   ],
   "source": [
    "print(W_er(2),X_er(2))"
   ]
  },
  {
   "cell_type": "markdown",
   "metadata": {},
   "source": [
    "They look good\n"
   ]
  }
 ],
 "metadata": {
  "kernelspec": {
   "display_name": "moma_pred",
   "language": "python",
   "name": "moma_pred"
  },
  "language_info": {
   "codemirror_mode": {
    "name": "ipython",
    "version": 3
   },
   "file_extension": ".py",
   "mimetype": "text/x-python",
   "name": "python",
   "nbconvert_exporter": "python",
   "pygments_lexer": "ipython3",
   "version": "3.5.2"
  }
 },
 "nbformat": 4,
 "nbformat_minor": 2
}
